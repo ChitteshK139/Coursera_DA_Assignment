{
 "cells": [
  {
   "cell_type": "markdown",
   "id": "d0de6d88-3e4d-470e-a3c7-8545ac3b1419",
   "metadata": {},
   "source": [
    "# Data Science Tools and Ecosystem"
   ]
  },
  {
   "cell_type": "markdown",
   "id": "1f31effc-5dbc-4c42-b771-21f59c9035ad",
   "metadata": {},
   "source": [
    "In this notebook, Data Science Tools and Ecosystem are summarized."
   ]
  },
  {
   "cell_type": "markdown",
   "id": "3220d7dc-d6fc-4d74-8045-b75f42de25ee",
   "metadata": {},
   "source": [
    "**Objectives:**\n",
    "* List popular languages for Data Science\n",
    "* List popular libraries for Data Science\n",
    "* Tabulate Data Science Tools\n",
    "* How to evaluate evaluating arithmetic expressions in Python\n",
    "* To convert minutes to hours\n",
    "\n",
    "## Author\n",
    "Chittesh Kumar Kanipakam"
   ]
  },
  {
   "cell_type": "markdown",
   "id": "283a5fca-9bfc-4e8c-8808-92f86e036dc6",
   "metadata": {},
   "source": [
    "Some of the popular languages that Data Scientists use are:\n",
    "1. Python\n",
    "2. R \n",
    "3. SQL\n",
    "4. Java"
   ]
  },
  {
   "cell_type": "markdown",
   "id": "bf2b2d69-7a69-4899-acbc-65793dcc35bd",
   "metadata": {},
   "source": [
    "Some of the commonly used libraries used by Data Scientists include:\n",
    "1. Pandas\n",
    "2. Numpy\n",
    "3. Matplotlib\n",
    "4. Seaborn\n",
    "5. Scikit-Learn\n",
    "6. TensorFlow\n",
    "7. Pytorch"
   ]
  },
  {
   "cell_type": "markdown",
   "id": "0756c5a0-d268-4261-87b0-2657cd79c34d",
   "metadata": {},
   "source": [
    "| Data Science tools |\n",
    "| ------------------ |\n",
    "| Apache Spark       |\n",
    "| Microsoft Power BI |\n",
    "| Tableau            |\n",
    "| Git                |\n"
   ]
  },
  {
   "cell_type": "markdown",
   "id": "751dbd68-d03e-4c0f-b836-2a93c2bab3c2",
   "metadata": {},
   "source": [
    "### Below are a few examples of evaluating arithmetic expressions in Python"
   ]
  },
  {
   "cell_type": "code",
   "execution_count": 3,
   "id": "ccfaf60b-cc2c-41df-892b-7e8c02c3a74a",
   "metadata": {
    "tags": []
   },
   "outputs": [
    {
     "data": {
      "text/plain": [
       "17"
      ]
     },
     "execution_count": 3,
     "metadata": {},
     "output_type": "execute_result"
    }
   ],
   "source": [
    "# This a simple arithmetic expression to mutiply then add integers\n",
    "\n",
    "(3*4)+5"
   ]
  },
  {
   "cell_type": "code",
   "execution_count": 5,
   "id": "15bebc0d-8962-4d7c-a76b-c28572f3522e",
   "metadata": {
    "tags": []
   },
   "outputs": [
    {
     "data": {
      "text/plain": [
       "3.3333333333333335"
      ]
     },
     "execution_count": 5,
     "metadata": {},
     "output_type": "execute_result"
    }
   ],
   "source": [
    "# This will convert 200 minutes to hours by diving by 60\n",
    "200/60"
   ]
  },
  {
   "cell_type": "markdown",
   "id": "34a21e18-31f9-46c0-b247-1667eb835663",
   "metadata": {},
   "source": []
  },
  {
   "cell_type": "markdown",
   "id": "ec56ac27-7e36-4598-8d56-00d388aaa51c",
   "metadata": {},
   "source": []
  }
 ],
 "metadata": {
  "kernelspec": {
   "display_name": "Python",
   "language": "python",
   "name": "conda-env-python-py"
  },
  "language_info": {
   "codemirror_mode": {
    "name": "ipython",
    "version": 3
   },
   "file_extension": ".py",
   "mimetype": "text/x-python",
   "name": "python",
   "nbconvert_exporter": "python",
   "pygments_lexer": "ipython3",
   "version": "3.7.12"
  }
 },
 "nbformat": 4,
 "nbformat_minor": 5
}
